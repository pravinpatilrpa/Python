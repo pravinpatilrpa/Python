{
 "cells": [
  {
   "cell_type": "code",
   "execution_count": 1,
   "id": "49b25ea9-0b1c-470a-ad25-7dc7e89fc333",
   "metadata": {},
   "outputs": [
    {
     "data": {
      "text/plain": [
       "list['a', 2, 3]"
      ]
     },
     "execution_count": 1,
     "metadata": {},
     "output_type": "execute_result"
    }
   ],
   "source": [
    "list[\"a\",2,3]"
   ]
  },
  {
   "cell_type": "code",
   "execution_count": 39,
   "id": "d25b927d-9dfe-4a09-be76-d2c25e516c03",
   "metadata": {},
   "outputs": [
    {
     "data": {
      "text/plain": [
       "{'a': 1, 'b': 2, 'c': 'v'}"
      ]
     },
     "execution_count": 39,
     "metadata": {},
     "output_type": "execute_result"
    }
   ],
   "source": [
    "dict(a=1,b=2,c=\"v\")"
   ]
  },
  {
   "cell_type": "code",
   "execution_count": 47,
   "id": "fa5dcdc4-db93-4e40-8087-ebe79e30afdc",
   "metadata": {},
   "outputs": [
    {
     "name": "stdout",
     "output_type": "stream",
     "text": [
      "('1', 2)\n"
     ]
    }
   ],
   "source": [
    "Tuple=(\"1\",2);print(Tuple)"
   ]
  },
  {
   "cell_type": "code",
   "execution_count": 46,
   "id": "a01589ba-353a-435e-a029-f58aad440990",
   "metadata": {},
   "outputs": [
    {
     "name": "stdout",
     "output_type": "stream",
     "text": [
      "{1, 2, 3}\n"
     ]
    }
   ],
   "source": [
    "set={1,2,3};print(set)"
   ]
  },
  {
   "cell_type": "code",
   "execution_count": 48,
   "id": "f53283bd-29a5-4018-9e8a-da3279398f61",
   "metadata": {},
   "outputs": [
    {
     "data": {
      "text/plain": [
       "range(0, 5)"
      ]
     },
     "execution_count": 48,
     "metadata": {},
     "output_type": "execute_result"
    }
   ],
   "source": [
    "range(5)"
   ]
  },
  {
   "cell_type": "code",
   "execution_count": 53,
   "id": "188a62dd-47ae-4dfb-af1a-c842e21222b9",
   "metadata": {},
   "outputs": [
    {
     "name": "stdout",
     "output_type": "stream",
     "text": [
      "0\n",
      "1\n",
      "2\n",
      "3\n",
      "4\n"
     ]
    }
   ],
   "source": [
    "for i in range(5):\n",
    "    print(i)"
   ]
  },
  {
   "cell_type": "code",
   "execution_count": 52,
   "id": "a4f8566e-14dd-4a4f-849c-1d2effb15abb",
   "metadata": {},
   "outputs": [
    {
     "name": "stdout",
     "output_type": "stream",
     "text": [
      "0\n",
      "1\n",
      "2\n",
      "3\n",
      "4\n"
     ]
    }
   ],
   "source": [
    "count = 0\n",
    "while count < 5:\n",
    "    print(count)\n",
    "    count += 1"
   ]
  },
  {
   "cell_type": "code",
   "execution_count": 27,
   "id": "ff3a3518-57b1-4542-bb38-cff2cd44b94a",
   "metadata": {},
   "outputs": [
    {
     "data": {
      "text/plain": [
       "[0, 2, 4, 6, 8]"
      ]
     },
     "execution_count": 27,
     "metadata": {},
     "output_type": "execute_result"
    }
   ],
   "source": [
    "list(range(0, 10, 2))"
   ]
  },
  {
   "cell_type": "code",
   "execution_count": 26,
   "id": "273c2d44-d61f-4ca4-985c-5ceacdd668d2",
   "metadata": {},
   "outputs": [
    {
     "name": "stdout",
     "output_type": "stream",
     "text": [
      "[3, 2, 1]\n"
     ]
    }
   ],
   "source": [
    "a = [1, 2, 3]; print(a[::-1]) "
   ]
  },
  {
   "cell_type": "code",
   "execution_count": 54,
   "id": "8406df6e-0f16-4cac-826b-bd20f5a8c602",
   "metadata": {},
   "outputs": [
    {
     "name": "stdout",
     "output_type": "stream",
     "text": [
      "Hello, Pravin\n"
     ]
    }
   ],
   "source": [
    "def greet(name):\n",
    "    return \"Hello, \" + name\n",
    "print(greet(\"Pravin\"))"
   ]
  },
  {
   "cell_type": "code",
   "execution_count": 58,
   "id": "c40f72d1-ac6a-4460-8239-ea8178eac55e",
   "metadata": {},
   "outputs": [
    {
     "name": "stdout",
     "output_type": "stream",
     "text": [
      "Hello, my name is Pravin and I am 37 years old.\n"
     ]
    }
   ],
   "source": [
    "class Person:\n",
    "    def __init__(self, name, age):\n",
    "        self.name = name\n",
    "        self.age = age\n",
    "    def greet(self):\n",
    "        return f\"Hello, my name is {self.name} and I am {self.age} years old.\"\n",
    "personObject = Person(\"Pravin\", 37)\n",
    "print(personObject.greet())"
   ]
  },
  {
   "cell_type": "code",
   "execution_count": 59,
   "id": "1d9936ee-d7b5-4bb9-ac77-c18a1c2fca35",
   "metadata": {},
   "outputs": [
    {
     "name": "stdout",
     "output_type": "stream",
     "text": [
      "4.0\n"
     ]
    }
   ],
   "source": [
    "import math\n",
    "print(math.sqrt(16))"
   ]
  },
  {
   "cell_type": "code",
   "execution_count": 60,
   "id": "3b9982c9-5091-4145-ab3b-4d03fcc9093c",
   "metadata": {},
   "outputs": [
    {
     "name": "stdout",
     "output_type": "stream",
     "text": [
      "My name is Pravin and I am 37 years old.\n"
     ]
    }
   ],
   "source": [
    "name = \"Pravin\"\n",
    "age = 37\n",
    "message = f\"My name is {name} and I am {age} years old.\"\n",
    "print(message)"
   ]
  },
  {
   "cell_type": "code",
   "execution_count": 67,
   "id": "4128f01b-3598-402f-8d73-58eaedc4fb7d",
   "metadata": {},
   "outputs": [
    {
     "name": "stdout",
     "output_type": "stream",
     "text": [
      "Division successful!\n",
      "This will always run.\n"
     ]
    }
   ],
   "source": [
    "try:\n",
    "    x = 10 / 2\n",
    "except ZeroDivisionError:\n",
    "    print(\"Cannot divide by zero!\")\n",
    "else:\n",
    "    print(\"Division successful!\")\n",
    "finally:\n",
    "    print(\"This will always run.\")"
   ]
  },
  {
   "cell_type": "code",
   "execution_count": 69,
   "id": "0a115526-802d-4eec-b4f7-9c48dbbafc3f",
   "metadata": {},
   "outputs": [
    {
     "name": "stdout",
     "output_type": "stream",
     "text": [
      "6\n"
     ]
    }
   ],
   "source": [
    "add_lambda = lambda x, y,z: x + y+z\n",
    "print(add_lambda(2,3,1))"
   ]
  },
  {
   "cell_type": "code",
   "execution_count": 71,
   "id": "53b0841b-9ece-44b2-8692-6389842806f1",
   "metadata": {},
   "outputs": [
    {
     "name": "stdout",
     "output_type": "stream",
     "text": [
      "[2, 3, 4, 5]\n"
     ]
    }
   ],
   "source": [
    "numbers = [1, 2, 3, 4]\n",
    "add = list(map(lambda x: x+1, numbers))\n",
    "print(add)"
   ]
  },
  {
   "cell_type": "code",
   "execution_count": 86,
   "id": "f83885f2-6981-45a3-98cc-f3cd4fb0c3d8",
   "metadata": {},
   "outputs": [
    {
     "name": "stdout",
     "output_type": "stream",
     "text": [
      " Python is awesome !\n"
     ]
    }
   ],
   "source": [
    "import re\n",
    "text = \"  Python   is    awesome  !\"\n",
    "cleaned_text = re.sub(r\"\\s+\", \" \", text) # Replace multiple spaces with a single space\n",
    "print(cleaned_text)"
   ]
  },
  {
   "cell_type": "code",
   "execution_count": 73,
   "id": "2b74208f-c9d1-4974-9e2c-42e1c6e66531",
   "metadata": {},
   "outputs": [
    {
     "name": "stdout",
     "output_type": "stream",
     "text": [
      "Found 'Python' in the text!\n"
     ]
    }
   ],
   "source": [
    "import re\n",
    "text = \"I love learning Python!\"\n",
    "match = re.search(r\"Python\", text) # Looks for the word \"Python\"\n",
    "if match:\n",
    "    print(\"Found 'Python' in the text!\")"
   ]
  },
  {
   "cell_type": "code",
   "execution_count": 81,
   "id": "19852063-26c1-4131-9be1-1167e60cfe2b",
   "metadata": {},
   "outputs": [
    {
     "name": "stdout",
     "output_type": "stream",
     "text": [
      "Found number: 1\n",
      "Found number: ['1', '5']\n"
     ]
    }
   ],
   "source": [
    "import re\n",
    "text = \"My favorite number is 1 & 5\"\n",
    "match = re.search(r\"\\d+\", text) # Looks for one or more digits\n",
    "if match:\n",
    "    print(\"Found number:\", match.group())\n",
    "numbers = re.findall(r\"\\d+\", text)\n",
    "print(\"Found number:\", numbers)"
   ]
  },
  {
   "cell_type": "code",
   "execution_count": 79,
   "id": "cfbb2859-9049-4f09-a0d5-d0e69b2bdf57",
   "metadata": {},
   "outputs": [
    {
     "name": "stdout",
     "output_type": "stream",
     "text": [
      "Found date: 15/08/2025\n"
     ]
    }
   ],
   "source": [
    "import re\n",
    "text = \"The event is on 15/08/2025.\"\n",
    "date = re.search(r\"\\d{2}/\\d{2}/\\d{4}\", text)\n",
    "if date:\n",
    "    print(\"Found date:\", date.group())"
   ]
  },
  {
   "cell_type": "code",
   "execution_count": 78,
   "id": "67bf1999-86e8-4d2f-96dc-24c34a7dffb6",
   "metadata": {},
   "outputs": [
    {
     "name": "stdout",
     "output_type": "stream",
     "text": [
      "Valid email!\n"
     ]
    }
   ],
   "source": [
    "import re\n",
    "email = \"user@example.com\"\n",
    "pattern = r\"^[a-zA-Z0-9_.+-]+@[a-zA-Z0-9-]+\\.[a-zA-Z]+$\"\n",
    "if re.match(pattern, email):\n",
    "    print(\"Valid email!\")\n",
    "else:\n",
    "    print(\"Invalid email!\")"
   ]
  },
  {
   "cell_type": "code",
   "execution_count": 80,
   "id": "a37ad59f-653b-410f-b585-94616fc13bf7",
   "metadata": {},
   "outputs": [
    {
     "name": "stdout",
     "output_type": "stream",
     "text": [
      "Valid phone number!\n"
     ]
    }
   ],
   "source": [
    "import re\n",
    "phone_number = \"(123) 456-7890\"\n",
    "pattern = r\"\\(\\d{3}\\) \\d{3}-\\d{4}\"\n",
    "if re.match(pattern, phone_number):\n",
    "    print(\"Valid phone number!\")\n",
    "else:\n",
    "    print(\"Invalid phone number!\")"
   ]
  },
  {
   "cell_type": "code",
   "execution_count": 83,
   "id": "797d778d-0b15-426d-96f9-f29495b6bb36",
   "metadata": {},
   "outputs": [
    {
     "name": "stdout",
     "output_type": "stream",
     "text": [
      "Strong password!\n"
     ]
    }
   ],
   "source": [
    "import re\n",
    "password = \"Secure@123\"\n",
    "pattern =r\"^(?=.*[A-Z])(?=.*[a-z])(?=.*\\d)(?=.*[@$!%*?&])[A-Za-z\\d@$!%*?&]{8,}$\"\n",
    "if re.match(pattern, password):\n",
    "    print(\"Strong password!\")\n",
    "else:\n",
    "    print(\"Weak password! Try adding uppercase, lowercase, numbers, and special characters.\")"
   ]
  },
  {
   "cell_type": "code",
   "execution_count": 91,
   "id": "223c7327-e758-46ce-81b9-da7b105a57ce",
   "metadata": {},
   "outputs": [
    {
     "name": "stdout",
     "output_type": "stream",
     "text": [
      "2025-10-16 10:15:02.458495\n",
      "2025-10-16 10:15:02\n"
     ]
    }
   ],
   "source": [
    "now = datetime.datetime.now()\n",
    "print(now) # Output: 2025-01-25 14:30:45.123456\n",
    "formatted = now.strftime(\"%Y-%m-%d %H:%M:%S\")\n",
    "print(formatted)"
   ]
  },
  {
   "cell_type": "code",
   "execution_count": 92,
   "id": "0345ac62-d4b3-4416-9ce1-f0905e77cdfe",
   "metadata": {},
   "outputs": [
    {
     "name": "stdout",
     "output_type": "stream",
     "text": [
      "Buddy says Woof!\n"
     ]
    }
   ],
   "source": [
    "class Dog:\n",
    "    def __init__(self, name, breed):\n",
    "        self.name = name\n",
    "        self.breed = breed\n",
    "    def bark(self):\n",
    "        print(f\"{self.name} says Woof!\")\n",
    "\n",
    "dogObject = Dog(\"Buddy\", \"Golden Retriever\")\n",
    "dogObject.bark() # Calling a method"
   ]
  },
  {
   "cell_type": "code",
   "execution_count": 95,
   "id": "173aa185-6648-445a-a567-302f4a9f8212",
   "metadata": {},
   "outputs": [
    {
     "name": "stdout",
     "output_type": "stream",
     "text": [
      "Animal speaks\n"
     ]
    }
   ],
   "source": [
    "class Animal:\n",
    "    def Aspeak(self):\n",
    "        print(\"Animal speaks\")\n",
    "\n",
    "class Dog(Animal):\n",
    "    def speak(self):\n",
    "        print(\"Dog barks\")\n",
    "\n",
    "dogObject = Dog()\n",
    "dogObject.Aspeak() # Calls Dog's speak method"
   ]
  },
  {
   "cell_type": "code",
   "execution_count": 96,
   "id": "4e5a337e-d084-40bf-b24a-b00a0d57a98c",
   "metadata": {},
   "outputs": [
    {
     "name": "stdout",
     "output_type": "stream",
     "text": [
      "Meow\n",
      "Woof\n"
     ]
    }
   ],
   "source": [
    "class Cat:\n",
    "    def speak(self):\n",
    "        print(\"Meow\")\n",
    "class Dog:\n",
    "    def speak(self):\n",
    "        print(\"Woof\")\n",
    "animals = [Cat(), Dog()]\n",
    "for animal in animals:\n",
    "    animal.speak() # Different behavior based on object type"
   ]
  },
  {
   "cell_type": "code",
   "execution_count": 99,
   "id": "3d7dca40-af61-4e39-af2a-65435c3ebaa4",
   "metadata": {},
   "outputs": [
    {
     "name": "stdout",
     "output_type": "stream",
     "text": [
      "Before function call\n",
      "Hello!\n",
      "After function call\n"
     ]
    }
   ],
   "source": [
    "def decorator(func):\n",
    "    def wrapper():\n",
    "        print(\"Before function call\")\n",
    "        func()\n",
    "        print(\"After function call\")\n",
    "    return wrapper\n",
    "\n",
    "@decorator\n",
    "def say_hello():\n",
    "    print(\"Hello!\")\n",
    "    \n",
    "say_hello()"
   ]
  },
  {
   "cell_type": "code",
   "execution_count": 101,
   "id": "8e3d3df7-3a76-4538-a9f8-6f57ae9055be",
   "metadata": {},
   "outputs": [
    {
     "name": "stdout",
     "output_type": "stream",
     "text": [
      "Starting...\n",
      "2 seconds later...\n"
     ]
    }
   ],
   "source": [
    "import time\n",
    "print(\"Starting...\")\n",
    "time.sleep(2) # Waits for 2 seconds\n",
    "print(\"2 seconds later...\")"
   ]
  },
  {
   "cell_type": "code",
   "execution_count": 102,
   "id": "20d7b799-6dbe-4e44-93ba-b7e4bde2af4a",
   "metadata": {},
   "outputs": [
    {
     "name": "stdout",
     "output_type": "stream",
     "text": [
      "{\"name\": \"Alice\", \"age\": 25}\n"
     ]
    }
   ],
   "source": [
    "import json\n",
    "person = {\"name\": \"Alice\", \"age\": 25}\n",
    "json_data = json.dumps(person)\n",
    "print(json_data) # Output: {\"name\": \"Alice\", \"age\": 25}"
   ]
  },
  {
   "cell_type": "code",
   "execution_count": 103,
   "id": "9b9b6a51-d630-4a0a-afa1-bf2feb7ede14",
   "metadata": {},
   "outputs": [
    {
     "name": "stdout",
     "output_type": "stream",
     "text": [
      "{'name': 'Alice', 'age': 25}\n"
     ]
    }
   ],
   "source": [
    "json_string = '{\"name\": \"Alice\", \"age\": 25}'\n",
    "person = json.loads(json_string)\n",
    "print(person) # Output: {'name': 'Alice', 'age': 25}"
   ]
  },
  {
   "cell_type": "code",
   "execution_count": 109,
   "id": "0a0e429d-c2cb-4883-9b47-379c4e492a6f",
   "metadata": {},
   "outputs": [
    {
     "name": "stdout",
     "output_type": "stream",
     "text": [
      "['name', 'age']\n",
      "['Pravin', '37']\n",
      "['Prajakt', '33']\n",
      "['Aahir', '5']\n"
     ]
    }
   ],
   "source": [
    "import csv\n",
    "with open(r'C:\\Users\\Admin\\Desktop\\python\\data.csv', 'r') as file:\n",
    "    reader = csv.reader(file)\n",
    "    for row in reader:\n",
    "        print(row)"
   ]
  },
  {
   "cell_type": "code",
   "execution_count": 119,
   "id": "25434328-9809-4133-8c94-a42f05ae2421",
   "metadata": {},
   "outputs": [],
   "source": [
    "import csv\n",
    "data = [[\"name\", \"age\"], [\"Aahir\", 5], [\"adhiraj\", 4],[\"pravin\", 37],[\"Prajata\", 32],[\"usha\", 57],[\"shekhar\", 33],[\"neelam\",33],[\"shubham\",29],[\"sharvi\",1]]\n",
    "with open(r'C:\\Users\\Admin\\Desktop\\python\\aahir\\output.csv', 'w', newline='') as file:\n",
    "    writer = csv.writer(file)\n",
    "    writer.writerows(data)"
   ]
  },
  {
   "cell_type": "code",
   "execution_count": 2,
   "id": "ecc9b5c1-1257-4ad2-a460-a7ad5e30c179",
   "metadata": {},
   "outputs": [
    {
     "name": "stdout",
     "output_type": "stream",
     "text": [
      "Successfully fetched 100 posts.\n",
      "\n",
      "First post title: sunt aut facere repellat provident occaecati excepturi optio reprehenderit\n",
      "First post body: quia et suscipit\n",
      "suscipit recusandae consequuntur expedita et cum\n",
      "reprehenderit molestiae ut ut quas totam\n",
      "nostrum rerum est autem sunt rem eveniet architecto\n"
     ]
    }
   ],
   "source": [
    "import requests\n",
    "\n",
    "def get_posts():\n",
    "    \"\"\"\n",
    "    Makes a GET request to the JSONPlaceholder API to retrieve posts.\n",
    "    \"\"\"\n",
    "    url = 'https://jsonplaceholder.typicode.com/posts'\n",
    "    try:\n",
    "        response = requests.get(url)\n",
    "\n",
    "        # Check if the request was successful (status code 200)\n",
    "        if response.status_code == 200:\n",
    "            posts = response.json()  # Parse the JSON response\n",
    "            return posts\n",
    "        else:\n",
    "            print(f\"Error: Received status code {response.status_code}\")\n",
    "            return None\n",
    "    except requests.exceptions.RequestException as e:\n",
    "        print(f\"An error occurred during the request: {e}\")\n",
    "        return None\n",
    "\n",
    "if __name__ == \"__main__\":\n",
    "    all_posts = get_posts()\n",
    "    if all_posts:\n",
    "        print(f\"Successfully fetched {len(all_posts)} posts.\")\n",
    "        print(\"\\nFirst post title:\", all_posts[0]['title'])\n",
    "        print(\"First post body:\", all_posts[0]['body'])\n",
    "    else:\n",
    "        print(\"Failed to retrieve posts.\")"
   ]
  },
  {
   "cell_type": "code",
   "execution_count": 6,
   "id": "396716d7-19c1-4620-9b9c-bf1af19e9f09",
   "metadata": {},
   "outputs": [
    {
     "name": "stdout",
     "output_type": "stream",
     "text": [
      "{'userId': 1, 'id': 1, 'title': 'delectus aut autem', 'completed': False}\n",
      "200\n",
      "application/json; charset=utf-8\n"
     ]
    }
   ],
   "source": [
    "import requests\n",
    "api_url = \"https://jsonplaceholder.typicode.com/todos/1\"\n",
    "response = requests.get(api_url)\n",
    "print(response.json())\n",
    "print(response.status_code)\n",
    "print(response.headers[\"Content-Type\"])"
   ]
  },
  {
   "cell_type": "code",
   "execution_count": 7,
   "id": "9a2e5fcc-66fe-460a-b4e4-9231e11d8d6b",
   "metadata": {},
   "outputs": [
    {
     "data": {
      "text/plain": [
       "{'userId': 1, 'title': 'Buy milk', 'completed': False, 'id': 201}"
      ]
     },
     "execution_count": 7,
     "metadata": {},
     "output_type": "execute_result"
    }
   ],
   "source": [
    "import requests\n",
    "api_url = \"https://jsonplaceholder.typicode.com/todos\"\n",
    "todo = {\"userId\": 1, \"title\": \"Buy milk\", \"completed\": False}\n",
    "response = requests.post(api_url, json=todo)\n",
    "response.json()"
   ]
  },
  {
   "cell_type": "code",
   "execution_count": 8,
   "id": "56328ec8-4716-445e-8e0d-fac3aadc0500",
   "metadata": {},
   "outputs": [
    {
     "data": {
      "text/plain": [
       "{'userId': 1, 'title': 'Buy milk', 'completed': False, 'id': 201}"
      ]
     },
     "execution_count": 8,
     "metadata": {},
     "output_type": "execute_result"
    }
   ],
   "source": [
    "import requests\n",
    "import json\n",
    "api_url = \"https://jsonplaceholder.typicode.com/todos\"\n",
    "todo = {\"userId\": 1, \"title\": \"Buy milk\", \"completed\": False}\n",
    "headers =  {\"Content-Type\":\"application/json\"}\n",
    "response = requests.post(api_url, data=json.dumps(todo), headers=headers)\n",
    "response.json()"
   ]
  },
  {
   "cell_type": "code",
   "execution_count": 11,
   "id": "173310c2-38c5-4bb4-85c8-c1abffcd2b62",
   "metadata": {},
   "outputs": [
    {
     "name": "stdout",
     "output_type": "stream",
     "text": [
      "{'userId': 1, 'id': 10, 'title': 'illo est ratione doloremque quia maiores aut', 'completed': True}\n",
      "{'userId': 1, 'title': 'Wash car', 'completed': True, 'id': 10}\n",
      "{'userId': 1, 'id': 10, 'title': 'testing', 'completed': True}\n"
     ]
    }
   ],
   "source": [
    "import requests\n",
    "api_url = \"https://jsonplaceholder.typicode.com/todos/10\"\n",
    "response = requests.get(api_url)\n",
    "print(response.json())\n",
    "\n",
    "todo = {\"userId\": 1, \"title\": \"Wash car\", \"completed\": True}\n",
    "response = requests.put(api_url, json=todo)\n",
    "print(response.json())\n",
    "\n",
    "\n",
    "todo = {\"title\": \"testing\"}\n",
    "response = requests.patch(api_url, json=todo)\n",
    "print(response.json())\n"
   ]
  },
  {
   "cell_type": "code",
   "execution_count": null,
   "id": "1b4af16f-b993-40ef-81a3-9810538abe16",
   "metadata": {},
   "outputs": [],
   "source": []
  }
 ],
 "metadata": {
  "kernelspec": {
   "display_name": "Python 3",
   "language": "python",
   "name": "python3"
  },
  "language_info": {
   "codemirror_mode": {
    "name": "ipython",
    "version": 3
   },
   "file_extension": ".py",
   "mimetype": "text/x-python",
   "name": "python",
   "nbconvert_exporter": "python",
   "pygments_lexer": "ipython3",
   "version": "3.14.0"
  }
 },
 "nbformat": 4,
 "nbformat_minor": 5
}
